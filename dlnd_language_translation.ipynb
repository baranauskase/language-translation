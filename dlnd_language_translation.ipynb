{
 "cells": [
  {
   "cell_type": "markdown",
   "metadata": {
    "collapsed": true
   },
   "source": [
    "# Language Translation\n",
    "In this project, you’re going to take a peek into the realm of neural network machine translation.  You’ll be training a sequence to sequence model on a dataset of English and French sentences that can translate new sentences from English to French.\n",
    "## Get the Data\n",
    "Since translating the whole language of English to French will take lots of time to train, we have provided you with a small portion of the English corpus."
   ]
  },
  {
   "cell_type": "code",
   "execution_count": 1,
   "metadata": {
    "collapsed": true
   },
   "outputs": [],
   "source": [
    "\"\"\"\n",
    "DON'T MODIFY ANYTHING IN THIS CELL\n",
    "\"\"\"\n",
    "import helper\n",
    "import problem_unittests as tests\n",
    "\n",
    "source_path = 'data/small_vocab_en'\n",
    "target_path = 'data/small_vocab_fr'\n",
    "source_text = helper.load_data(source_path)\n",
    "target_text = helper.load_data(target_path)"
   ]
  },
  {
   "cell_type": "markdown",
   "metadata": {},
   "source": [
    "## Explore the Data\n",
    "Play around with view_sentence_range to view different parts of the data."
   ]
  },
  {
   "cell_type": "code",
   "execution_count": 2,
   "metadata": {},
   "outputs": [
    {
     "name": "stdout",
     "output_type": "stream",
     "text": [
      "Dataset Stats\n",
      "Roughly the number of unique words: 227\n",
      "Number of sentences: 137861\n",
      "Average number of words in a sentence: 13.225277634719028\n",
      "\n",
      "English sentences 0 to 10:\n",
      "new jersey is sometimes quiet during autumn , and it is snowy in april .\n",
      "the united states is usually chilly during july , and it is usually freezing in november .\n",
      "california is usually quiet during march , and it is usually hot in june .\n",
      "the united states is sometimes mild during june , and it is cold in september .\n",
      "your least liked fruit is the grape , but my least liked is the apple .\n",
      "his favorite fruit is the orange , but my favorite is the grape .\n",
      "paris is relaxing during december , but it is usually chilly in july .\n",
      "new jersey is busy during spring , and it is never hot in march .\n",
      "our least liked fruit is the lemon , but my least liked is the grape .\n",
      "the united states is sometimes busy during january , and it is sometimes warm in november .\n",
      "\n",
      "French sentences 0 to 10:\n",
      "new jersey est parfois calme pendant l' automne , et il est neigeux en avril .\n",
      "les états-unis est généralement froid en juillet , et il gèle habituellement en novembre .\n",
      "california est généralement calme en mars , et il est généralement chaud en juin .\n",
      "les états-unis est parfois légère en juin , et il fait froid en septembre .\n",
      "votre moins aimé fruit est le raisin , mais mon moins aimé est la pomme .\n",
      "son fruit préféré est l'orange , mais mon préféré est le raisin .\n",
      "paris est relaxant en décembre , mais il est généralement froid en juillet .\n",
      "new jersey est occupé au printemps , et il est jamais chaude en mars .\n",
      "notre fruit est moins aimé le citron , mais mon moins aimé est le raisin .\n",
      "les états-unis est parfois occupé en janvier , et il est parfois chaud en novembre .\n"
     ]
    }
   ],
   "source": [
    "view_sentence_range = (0, 10)\n",
    "\n",
    "\"\"\"\n",
    "DON'T MODIFY ANYTHING IN THIS CELL\n",
    "\"\"\"\n",
    "import numpy as np\n",
    "\n",
    "print('Dataset Stats')\n",
    "print('Roughly the number of unique words: {}'.format(len({word: None for word in source_text.split()})))\n",
    "\n",
    "sentences = source_text.split('\\n')\n",
    "word_counts = [len(sentence.split()) for sentence in sentences]\n",
    "print('Number of sentences: {}'.format(len(sentences)))\n",
    "print('Average number of words in a sentence: {}'.format(np.average(word_counts)))\n",
    "\n",
    "print()\n",
    "print('English sentences {} to {}:'.format(*view_sentence_range))\n",
    "print('\\n'.join(source_text.split('\\n')[view_sentence_range[0]:view_sentence_range[1]]))\n",
    "print()\n",
    "print('French sentences {} to {}:'.format(*view_sentence_range))\n",
    "print('\\n'.join(target_text.split('\\n')[view_sentence_range[0]:view_sentence_range[1]]))"
   ]
  },
  {
   "cell_type": "markdown",
   "metadata": {},
   "source": [
    "## Implement Preprocessing Function\n",
    "### Text to Word Ids\n",
    "As you did with other RNNs, you must turn the text into a number so the computer can understand it. In the function `text_to_ids()`, you'll turn `source_text` and `target_text` from words to ids.  However, you need to add the `<EOS>` word id at the end of `target_text`.  This will help the neural network predict when the sentence should end.\n",
    "\n",
    "You can get the `<EOS>` word id by doing:\n",
    "```python\n",
    "target_vocab_to_int['<EOS>']\n",
    "```\n",
    "You can get other word ids using `source_vocab_to_int` and `target_vocab_to_int`."
   ]
  },
  {
   "cell_type": "code",
   "execution_count": 3,
   "metadata": {},
   "outputs": [
    {
     "name": "stdout",
     "output_type": "stream",
     "text": [
      "Tests Passed\n"
     ]
    }
   ],
   "source": [
    "def text_to_ids(source_text, target_text, source_vocab_to_int, target_vocab_to_int):\n",
    "    \"\"\"\n",
    "    Convert source and target text to proper word ids\n",
    "    :param source_text: String that contains all the source text.\n",
    "    :param target_text: String that contains all the target text.\n",
    "    :param source_vocab_to_int: Dictionary to go from the source words to an id\n",
    "    :param target_vocab_to_int: Dictionary to go from the target words to an id\n",
    "    :return: A tuple of lists (source_id_text, target_id_text)\n",
    "    \"\"\"\n",
    "    target_text = target_text.replace('.', '. <EOS>')\n",
    "    \n",
    "    source_id_text = [[source_vocab_to_int[token] for token in line.split(' ') if token in source_vocab_to_int] for line in source_text.split('\\n')]\n",
    "    target_id_text = [[target_vocab_to_int[token] for token in line.split(' ') if token in target_vocab_to_int] for line in target_text.split('\\n')]\n",
    "    \n",
    "    return source_id_text, target_id_text\n",
    "\n",
    "\"\"\"\n",
    "DON'T MODIFY ANYTHING IN THIS CELL THAT IS BELOW THIS LINE\n",
    "\"\"\"\n",
    "tests.test_text_to_ids(text_to_ids)"
   ]
  },
  {
   "cell_type": "markdown",
   "metadata": {},
   "source": [
    "### Preprocess all the data and save it\n",
    "Running the code cell below will preprocess all the data and save it to file."
   ]
  },
  {
   "cell_type": "code",
   "execution_count": 4,
   "metadata": {
    "collapsed": true
   },
   "outputs": [],
   "source": [
    "\"\"\"\n",
    "DON'T MODIFY ANYTHING IN THIS CELL\n",
    "\"\"\"\n",
    "helper.preprocess_and_save_data(source_path, target_path, text_to_ids)"
   ]
  },
  {
   "cell_type": "markdown",
   "metadata": {},
   "source": [
    "# Check Point\n",
    "This is your first checkpoint. If you ever decide to come back to this notebook or have to restart the notebook, you can start from here. The preprocessed data has been saved to disk."
   ]
  },
  {
   "cell_type": "code",
   "execution_count": 5,
   "metadata": {
    "collapsed": true
   },
   "outputs": [],
   "source": [
    "\"\"\"\n",
    "DON'T MODIFY ANYTHING IN THIS CELL\n",
    "\"\"\"\n",
    "import numpy as np\n",
    "import helper\n",
    "\n",
    "(source_int_text, target_int_text), (source_vocab_to_int, target_vocab_to_int), _ = helper.load_preprocess()"
   ]
  },
  {
   "cell_type": "markdown",
   "metadata": {},
   "source": [
    "### Check the Version of TensorFlow and Access to GPU\n",
    "This will check to make sure you have the correct version of TensorFlow and access to a GPU"
   ]
  },
  {
   "cell_type": "code",
   "execution_count": 6,
   "metadata": {},
   "outputs": [
    {
     "name": "stdout",
     "output_type": "stream",
     "text": [
      "TensorFlow Version: 1.2.1\n"
     ]
    },
    {
     "name": "stderr",
     "output_type": "stream",
     "text": [
      "C:\\ProgramData\\Anaconda3\\envs\\language-translation\\lib\\site-packages\\ipykernel_launcher.py:15: UserWarning: No GPU found. Please use a GPU to train your neural network.\n",
      "  from ipykernel import kernelapp as app\n"
     ]
    }
   ],
   "source": [
    "\"\"\"\n",
    "DON'T MODIFY ANYTHING IN THIS CELL\n",
    "\"\"\"\n",
    "from distutils.version import LooseVersion\n",
    "import warnings\n",
    "import tensorflow as tf\n",
    "from tensorflow.python.layers.core import Dense\n",
    "\n",
    "# Check TensorFlow Version\n",
    "assert LooseVersion(tf.__version__) >= LooseVersion('1.1'), 'Please use TensorFlow version 1.1 or newer'\n",
    "print('TensorFlow Version: {}'.format(tf.__version__))\n",
    "\n",
    "# Check for a GPU\n",
    "if not tf.test.gpu_device_name():\n",
    "    warnings.warn('No GPU found. Please use a GPU to train your neural network.')\n",
    "else:\n",
    "    print('Default GPU Device: {}'.format(tf.test.gpu_device_name()))"
   ]
  },
  {
   "cell_type": "markdown",
   "metadata": {},
   "source": [
    "## Build the Neural Network\n",
    "You'll build the components necessary to build a Sequence-to-Sequence model by implementing the following functions below:\n",
    "- `model_inputs`\n",
    "- `process_decoder_input`\n",
    "- `encoding_layer`\n",
    "- `decoding_layer_train`\n",
    "- `decoding_layer_infer`\n",
    "- `decoding_layer`\n",
    "- `seq2seq_model`\n",
    "\n",
    "### Input\n",
    "Implement the `model_inputs()` function to create TF Placeholders for the Neural Network. It should create the following placeholders:\n",
    "\n",
    "- Input text placeholder named \"input\" using the TF Placeholder name parameter with rank 2.\n",
    "- Targets placeholder with rank 2.\n",
    "- Learning rate placeholder with rank 0.\n",
    "- Keep probability placeholder named \"keep_prob\" using the TF Placeholder name parameter with rank 0.\n",
    "- Target sequence length placeholder named \"target_sequence_length\" with rank 1\n",
    "- Max target sequence length tensor named \"max_target_len\" getting its value from applying tf.reduce_max on the target_sequence_length placeholder. Rank 0.\n",
    "- Source sequence length placeholder named \"source_sequence_length\" with rank 1\n",
    "\n",
    "Return the placeholders in the following the tuple (input, targets, learning rate, keep probability, target sequence length, max target sequence length, source sequence length)"
   ]
  },
  {
   "cell_type": "code",
   "execution_count": 12,
   "metadata": {
    "collapsed": true
   },
   "outputs": [],
   "source": [
    "#Helper function for creating LSTM cells\n",
    "def create_lstmcell(rnn_size):\n",
    "    enc_cell = tf.contrib.rnn.LSTMCell(rnn_size, initializer=tf.random_uniform_initializer(-0.1, 0.1, seed=2))\n",
    "    return enc_cell"
   ]
  },
  {
   "cell_type": "code",
   "execution_count": 13,
   "metadata": {},
   "outputs": [
    {
     "name": "stdout",
     "output_type": "stream",
     "text": [
      "ERROR:tensorflow:==================================\n",
      "Object was never used (type <class 'tensorflow.python.framework.ops.Operation'>):\n",
      "<tf.Operation 'assert_rank_2/Assert/Assert' type=Assert>\n",
      "If you want to mark it as used call its \"mark_used()\" method.\n",
      "It was originally created here:\n",
      "['File \"C:\\\\ProgramData\\\\Anaconda3\\\\envs\\\\language-translation\\\\lib\\\\runpy.py\", line 193, in _run_module_as_main\\n    \"__main__\", mod_spec)', 'File \"C:\\\\ProgramData\\\\Anaconda3\\\\envs\\\\language-translation\\\\lib\\\\runpy.py\", line 85, in _run_code\\n    exec(code, run_globals)', 'File \"C:\\\\ProgramData\\\\Anaconda3\\\\envs\\\\language-translation\\\\lib\\\\site-packages\\\\ipykernel_launcher.py\", line 16, in <module>\\n    app.launch_new_instance()', 'File \"C:\\\\ProgramData\\\\Anaconda3\\\\envs\\\\language-translation\\\\lib\\\\site-packages\\\\traitlets\\\\config\\\\application.py\", line 658, in launch_instance\\n    app.start()', 'File \"C:\\\\ProgramData\\\\Anaconda3\\\\envs\\\\language-translation\\\\lib\\\\site-packages\\\\ipykernel\\\\kernelapp.py\", line 477, in start\\n    ioloop.IOLoop.instance().start()', 'File \"C:\\\\ProgramData\\\\Anaconda3\\\\envs\\\\language-translation\\\\lib\\\\site-packages\\\\zmq\\\\eventloop\\\\ioloop.py\", line 177, in start\\n    super(ZMQIOLoop, self).start()', 'File \"C:\\\\ProgramData\\\\Anaconda3\\\\envs\\\\language-translation\\\\lib\\\\site-packages\\\\tornado\\\\ioloop.py\", line 888, in start\\n    handler_func(fd_obj, events)', 'File \"C:\\\\ProgramData\\\\Anaconda3\\\\envs\\\\language-translation\\\\lib\\\\site-packages\\\\tornado\\\\stack_context.py\", line 277, in null_wrapper\\n    return fn(*args, **kwargs)', 'File \"C:\\\\ProgramData\\\\Anaconda3\\\\envs\\\\language-translation\\\\lib\\\\site-packages\\\\zmq\\\\eventloop\\\\zmqstream.py\", line 440, in _handle_events\\n    self._handle_recv()', 'File \"C:\\\\ProgramData\\\\Anaconda3\\\\envs\\\\language-translation\\\\lib\\\\site-packages\\\\zmq\\\\eventloop\\\\zmqstream.py\", line 472, in _handle_recv\\n    self._run_callback(callback, msg)', 'File \"C:\\\\ProgramData\\\\Anaconda3\\\\envs\\\\language-translation\\\\lib\\\\site-packages\\\\zmq\\\\eventloop\\\\zmqstream.py\", line 414, in _run_callback\\n    callback(*args, **kwargs)', 'File \"C:\\\\ProgramData\\\\Anaconda3\\\\envs\\\\language-translation\\\\lib\\\\site-packages\\\\tornado\\\\stack_context.py\", line 277, in null_wrapper\\n    return fn(*args, **kwargs)', 'File \"C:\\\\ProgramData\\\\Anaconda3\\\\envs\\\\language-translation\\\\lib\\\\site-packages\\\\ipykernel\\\\kernelbase.py\", line 283, in dispatcher\\n    return self.dispatch_shell(stream, msg)', 'File \"C:\\\\ProgramData\\\\Anaconda3\\\\envs\\\\language-translation\\\\lib\\\\site-packages\\\\ipykernel\\\\kernelbase.py\", line 235, in dispatch_shell\\n    handler(stream, idents, msg)', 'File \"C:\\\\ProgramData\\\\Anaconda3\\\\envs\\\\language-translation\\\\lib\\\\site-packages\\\\ipykernel\\\\kernelbase.py\", line 399, in execute_request\\n    user_expressions, allow_stdin)', 'File \"C:\\\\ProgramData\\\\Anaconda3\\\\envs\\\\language-translation\\\\lib\\\\site-packages\\\\ipykernel\\\\ipkernel.py\", line 196, in do_execute\\n    res = shell.run_cell(code, store_history=store_history, silent=silent)', 'File \"C:\\\\ProgramData\\\\Anaconda3\\\\envs\\\\language-translation\\\\lib\\\\site-packages\\\\ipykernel\\\\zmqshell.py\", line 533, in run_cell\\n    return super(ZMQInteractiveShell, self).run_cell(*args, **kwargs)', 'File \"C:\\\\ProgramData\\\\Anaconda3\\\\envs\\\\language-translation\\\\lib\\\\site-packages\\\\IPython\\\\core\\\\interactiveshell.py\", line 2698, in run_cell\\n    interactivity=interactivity, compiler=compiler, result=result)', 'File \"C:\\\\ProgramData\\\\Anaconda3\\\\envs\\\\language-translation\\\\lib\\\\site-packages\\\\IPython\\\\core\\\\interactiveshell.py\", line 2808, in run_ast_nodes\\n    if self.run_code(code, result):', 'File \"C:\\\\ProgramData\\\\Anaconda3\\\\envs\\\\language-translation\\\\lib\\\\site-packages\\\\IPython\\\\core\\\\interactiveshell.py\", line 2862, in run_code\\n    exec(code_obj, self.user_global_ns, self.user_ns)', 'File \"<ipython-input-13-7e9001d0d350>\", line 20, in <module>\\n    tests.test_model_inputs(model_inputs)', 'File \"D:\\\\personal_repositories\\\\language-translation\\\\problem_unittests.py\", line 106, in test_model_inputs\\n    assert tf.assert_rank(lr, 0, message=\\'Learning Rate has wrong rank\\')', 'File \"C:\\\\ProgramData\\\\Anaconda3\\\\envs\\\\language-translation\\\\lib\\\\site-packages\\\\tensorflow\\\\python\\\\ops\\\\check_ops.py\", line 617, in assert_rank\\n    dynamic_condition, data, summarize)', 'File \"C:\\\\ProgramData\\\\Anaconda3\\\\envs\\\\language-translation\\\\lib\\\\site-packages\\\\tensorflow\\\\python\\\\ops\\\\check_ops.py\", line 571, in _assert_rank_condition\\n    return control_flow_ops.Assert(condition, data, summarize=summarize)', 'File \"C:\\\\ProgramData\\\\Anaconda3\\\\envs\\\\language-translation\\\\lib\\\\site-packages\\\\tensorflow\\\\python\\\\util\\\\tf_should_use.py\", line 170, in wrapped\\n    return _add_should_use_warning(fn(*args, **kwargs))', 'File \"C:\\\\ProgramData\\\\Anaconda3\\\\envs\\\\language-translation\\\\lib\\\\site-packages\\\\tensorflow\\\\python\\\\util\\\\tf_should_use.py\", line 139, in _add_should_use_warning\\n    wrapped = TFShouldUseWarningWrapper(x)', 'File \"C:\\\\ProgramData\\\\Anaconda3\\\\envs\\\\language-translation\\\\lib\\\\site-packages\\\\tensorflow\\\\python\\\\util\\\\tf_should_use.py\", line 96, in __init__\\n    stack = [s.strip() for s in traceback.format_stack()]']\n",
      "==================================\n",
      "ERROR:tensorflow:==================================\n",
      "Object was never used (type <class 'tensorflow.python.framework.ops.Operation'>):\n",
      "<tf.Operation 'assert_rank_3/Assert/Assert' type=Assert>\n",
      "If you want to mark it as used call its \"mark_used()\" method.\n",
      "It was originally created here:\n",
      "['File \"C:\\\\ProgramData\\\\Anaconda3\\\\envs\\\\language-translation\\\\lib\\\\runpy.py\", line 193, in _run_module_as_main\\n    \"__main__\", mod_spec)', 'File \"C:\\\\ProgramData\\\\Anaconda3\\\\envs\\\\language-translation\\\\lib\\\\runpy.py\", line 85, in _run_code\\n    exec(code, run_globals)', 'File \"C:\\\\ProgramData\\\\Anaconda3\\\\envs\\\\language-translation\\\\lib\\\\site-packages\\\\ipykernel_launcher.py\", line 16, in <module>\\n    app.launch_new_instance()', 'File \"C:\\\\ProgramData\\\\Anaconda3\\\\envs\\\\language-translation\\\\lib\\\\site-packages\\\\traitlets\\\\config\\\\application.py\", line 658, in launch_instance\\n    app.start()', 'File \"C:\\\\ProgramData\\\\Anaconda3\\\\envs\\\\language-translation\\\\lib\\\\site-packages\\\\ipykernel\\\\kernelapp.py\", line 477, in start\\n    ioloop.IOLoop.instance().start()', 'File \"C:\\\\ProgramData\\\\Anaconda3\\\\envs\\\\language-translation\\\\lib\\\\site-packages\\\\zmq\\\\eventloop\\\\ioloop.py\", line 177, in start\\n    super(ZMQIOLoop, self).start()', 'File \"C:\\\\ProgramData\\\\Anaconda3\\\\envs\\\\language-translation\\\\lib\\\\site-packages\\\\tornado\\\\ioloop.py\", line 888, in start\\n    handler_func(fd_obj, events)', 'File \"C:\\\\ProgramData\\\\Anaconda3\\\\envs\\\\language-translation\\\\lib\\\\site-packages\\\\tornado\\\\stack_context.py\", line 277, in null_wrapper\\n    return fn(*args, **kwargs)', 'File \"C:\\\\ProgramData\\\\Anaconda3\\\\envs\\\\language-translation\\\\lib\\\\site-packages\\\\zmq\\\\eventloop\\\\zmqstream.py\", line 440, in _handle_events\\n    self._handle_recv()', 'File \"C:\\\\ProgramData\\\\Anaconda3\\\\envs\\\\language-translation\\\\lib\\\\site-packages\\\\zmq\\\\eventloop\\\\zmqstream.py\", line 472, in _handle_recv\\n    self._run_callback(callback, msg)', 'File \"C:\\\\ProgramData\\\\Anaconda3\\\\envs\\\\language-translation\\\\lib\\\\site-packages\\\\zmq\\\\eventloop\\\\zmqstream.py\", line 414, in _run_callback\\n    callback(*args, **kwargs)', 'File \"C:\\\\ProgramData\\\\Anaconda3\\\\envs\\\\language-translation\\\\lib\\\\site-packages\\\\tornado\\\\stack_context.py\", line 277, in null_wrapper\\n    return fn(*args, **kwargs)', 'File \"C:\\\\ProgramData\\\\Anaconda3\\\\envs\\\\language-translation\\\\lib\\\\site-packages\\\\ipykernel\\\\kernelbase.py\", line 283, in dispatcher\\n    return self.dispatch_shell(stream, msg)', 'File \"C:\\\\ProgramData\\\\Anaconda3\\\\envs\\\\language-translation\\\\lib\\\\site-packages\\\\ipykernel\\\\kernelbase.py\", line 235, in dispatch_shell\\n    handler(stream, idents, msg)', 'File \"C:\\\\ProgramData\\\\Anaconda3\\\\envs\\\\language-translation\\\\lib\\\\site-packages\\\\ipykernel\\\\kernelbase.py\", line 399, in execute_request\\n    user_expressions, allow_stdin)', 'File \"C:\\\\ProgramData\\\\Anaconda3\\\\envs\\\\language-translation\\\\lib\\\\site-packages\\\\ipykernel\\\\ipkernel.py\", line 196, in do_execute\\n    res = shell.run_cell(code, store_history=store_history, silent=silent)', 'File \"C:\\\\ProgramData\\\\Anaconda3\\\\envs\\\\language-translation\\\\lib\\\\site-packages\\\\ipykernel\\\\zmqshell.py\", line 533, in run_cell\\n    return super(ZMQInteractiveShell, self).run_cell(*args, **kwargs)', 'File \"C:\\\\ProgramData\\\\Anaconda3\\\\envs\\\\language-translation\\\\lib\\\\site-packages\\\\IPython\\\\core\\\\interactiveshell.py\", line 2698, in run_cell\\n    interactivity=interactivity, compiler=compiler, result=result)', 'File \"C:\\\\ProgramData\\\\Anaconda3\\\\envs\\\\language-translation\\\\lib\\\\site-packages\\\\IPython\\\\core\\\\interactiveshell.py\", line 2808, in run_ast_nodes\\n    if self.run_code(code, result):', 'File \"C:\\\\ProgramData\\\\Anaconda3\\\\envs\\\\language-translation\\\\lib\\\\site-packages\\\\IPython\\\\core\\\\interactiveshell.py\", line 2862, in run_code\\n    exec(code_obj, self.user_global_ns, self.user_ns)', 'File \"<ipython-input-13-7e9001d0d350>\", line 20, in <module>\\n    tests.test_model_inputs(model_inputs)', 'File \"D:\\\\personal_repositories\\\\language-translation\\\\problem_unittests.py\", line 107, in test_model_inputs\\n    assert tf.assert_rank(keep_prob, 0, message=\\'Keep Probability has wrong rank\\')', 'File \"C:\\\\ProgramData\\\\Anaconda3\\\\envs\\\\language-translation\\\\lib\\\\site-packages\\\\tensorflow\\\\python\\\\ops\\\\check_ops.py\", line 617, in assert_rank\\n    dynamic_condition, data, summarize)', 'File \"C:\\\\ProgramData\\\\Anaconda3\\\\envs\\\\language-translation\\\\lib\\\\site-packages\\\\tensorflow\\\\python\\\\ops\\\\check_ops.py\", line 571, in _assert_rank_condition\\n    return control_flow_ops.Assert(condition, data, summarize=summarize)', 'File \"C:\\\\ProgramData\\\\Anaconda3\\\\envs\\\\language-translation\\\\lib\\\\site-packages\\\\tensorflow\\\\python\\\\util\\\\tf_should_use.py\", line 170, in wrapped\\n    return _add_should_use_warning(fn(*args, **kwargs))', 'File \"C:\\\\ProgramData\\\\Anaconda3\\\\envs\\\\language-translation\\\\lib\\\\site-packages\\\\tensorflow\\\\python\\\\util\\\\tf_should_use.py\", line 139, in _add_should_use_warning\\n    wrapped = TFShouldUseWarningWrapper(x)', 'File \"C:\\\\ProgramData\\\\Anaconda3\\\\envs\\\\language-translation\\\\lib\\\\site-packages\\\\tensorflow\\\\python\\\\util\\\\tf_should_use.py\", line 96, in __init__\\n    stack = [s.strip() for s in traceback.format_stack()]']\n",
      "==================================\n"
     ]
    },
    {
     "name": "stdout",
     "output_type": "stream",
     "text": [
      "Tests Passed\n"
     ]
    }
   ],
   "source": [
    "def model_inputs():\n",
    "    \"\"\"\n",
    "    Create TF Placeholders for input, targets, learning rate, and lengths of source and target sequences.\n",
    "    :return: Tuple (input, targets, learning rate, keep probability, target sequence length,\n",
    "    max target sequence length, source sequence length)\n",
    "    \"\"\"\n",
    "    inputs = tf.placeholder(tf.int32, [None, None], name='input')\n",
    "    targets = tf.placeholder(tf.int32, [None, None], name='targets')\n",
    "    lr = tf.placeholder(tf.float32, name='learning_rate')\n",
    "    keep_prob = tf.placeholder(tf.float32, name='keep_prob')\n",
    "    target_sequence_length = tf.placeholder(tf.int32, (None,), name='target_sequence_length')\n",
    "    max_target_sequence_length = tf.reduce_max(target_sequence_length, name='max_target_len')\n",
    "    source_sequence_length = tf.placeholder(tf.int32, (None,), name='source_sequence_length')\n",
    "    \n",
    "    return inputs, targets, lr, keep_prob, target_sequence_length, max_target_sequence_length, source_sequence_length\n",
    "\n",
    "\"\"\"\n",
    "DON'T MODIFY ANYTHING IN THIS CELL THAT IS BELOW THIS LINE\n",
    "\"\"\"\n",
    "tests.test_model_inputs(model_inputs)"
   ]
  },
  {
   "cell_type": "markdown",
   "metadata": {},
   "source": [
    "### Process Decoder Input\n",
    "Implement `process_decoder_input` by removing the last word id from each batch in `target_data` and concat the GO ID to the begining of each batch."
   ]
  },
  {
   "cell_type": "code",
   "execution_count": 29,
   "metadata": {},
   "outputs": [
    {
     "name": "stdout",
     "output_type": "stream",
     "text": [
      "Tests Passed\n"
     ]
    }
   ],
   "source": [
    "def process_decoder_input(target_data, target_vocab_to_int, batch_size):\n",
    "    \"\"\"\n",
    "    Preprocess target data for encoding\n",
    "    :param target_data: Target Placehoder\n",
    "    :param target_vocab_to_int: Dictionary to go from the target words to an id\n",
    "    :param batch_size: Batch Size\n",
    "    :return: Preprocessed target data\n",
    "    \"\"\"\n",
    "    sliced_end = tf.strided_slice(target_data, [0,0], [batch_size,-1], [1,1])\n",
    "    add_go = tf.concat([tf.fill([batch_size, 1], target_vocab_to_int['<GO>']), sliced_end], 1)\n",
    "    return add_go\n",
    "\n",
    "\"\"\"\n",
    "DON'T MODIFY ANYTHING IN THIS CELL THAT IS BELOW THIS LINE\n",
    "\"\"\"\n",
    "tests.test_process_encoding_input(process_decoder_input)"
   ]
  },
  {
   "cell_type": "markdown",
   "metadata": {},
   "source": [
    "### Encoding\n",
    "Implement `encoding_layer()` to create a Encoder RNN layer:\n",
    " * Embed the encoder input using [`tf.contrib.layers.embed_sequence`](https://www.tensorflow.org/api_docs/python/tf/contrib/layers/embed_sequence)\n",
    " * Construct a [stacked](https://github.com/tensorflow/tensorflow/blob/6947f65a374ebf29e74bb71e36fd82760056d82c/tensorflow/docs_src/tutorials/recurrent.md#stacking-multiple-lstms) [`tf.contrib.rnn.LSTMCell`](https://www.tensorflow.org/api_docs/python/tf/contrib/rnn/LSTMCell) wrapped in a [`tf.contrib.rnn.DropoutWrapper`](https://www.tensorflow.org/api_docs/python/tf/contrib/rnn/DropoutWrapper)\n",
    " * Pass cell and embedded input to [`tf.nn.dynamic_rnn()`](https://www.tensorflow.org/api_docs/python/tf/nn/dynamic_rnn)"
   ]
  },
  {
   "cell_type": "code",
   "execution_count": 30,
   "metadata": {
    "scrolled": false
   },
   "outputs": [
    {
     "name": "stdout",
     "output_type": "stream",
     "text": [
      "Tests Passed\n"
     ]
    }
   ],
   "source": [
    "from imp import reload\n",
    "reload(tests)\n",
    "\n",
    "def encoding_layer(rnn_inputs, rnn_size, num_layers, keep_prob, \n",
    "                   source_sequence_length, source_vocab_size, \n",
    "                   encoding_embedding_size):\n",
    "    \"\"\"\n",
    "    Create encoding layer\n",
    "    :param rnn_inputs: Inputs for the RNN\n",
    "    :param rnn_size: RNN Size\n",
    "    :param num_layers: Number of layers\n",
    "    :param keep_prob: Dropout keep probability\n",
    "    :param source_sequence_length: a list of the lengths of each sequence in the batch\n",
    "    :param source_vocab_size: vocabulary size of source data\n",
    "    :param encoding_embedding_size: embedding size of source data\n",
    "    :return: tuple (RNN output, RNN state)\n",
    "    \"\"\"\n",
    "    # Encoder embedding\n",
    "    embed_sequence = tf.contrib.layers.embed_sequence(rnn_inputs, source_vocab_size, encoding_embedding_size)\n",
    "\n",
    "    # RNN cell\n",
    "    lstm_stack = tf.contrib.rnn.MultiRNNCell([create_lstmcell(rnn_size) for _ in range(num_layers)])\n",
    "    dropout = tf.contrib.rnn.DropoutWrapper(lstm_stack, keep_prob)\n",
    "    \n",
    "    output, state = tf.nn.dynamic_rnn(dropout, embed_sequence, sequence_length=source_sequence_length, dtype=tf.float32)\n",
    "    \n",
    "    return output, state\n",
    "\n",
    "\"\"\"\n",
    "DON'T MODIFY ANYTHING IN THIS CELL THAT IS BELOW THIS LINE\n",
    "\"\"\"\n",
    "tests.test_encoding_layer(encoding_layer)"
   ]
  },
  {
   "cell_type": "markdown",
   "metadata": {},
   "source": [
    "### Decoding - Training\n",
    "Create a training decoding layer:\n",
    "* Create a [`tf.contrib.seq2seq.TrainingHelper`](https://www.tensorflow.org/api_docs/python/tf/contrib/seq2seq/TrainingHelper) \n",
    "* Create a [`tf.contrib.seq2seq.BasicDecoder`](https://www.tensorflow.org/api_docs/python/tf/contrib/seq2seq/BasicDecoder)\n",
    "* Obtain the decoder outputs from [`tf.contrib.seq2seq.dynamic_decode`](https://www.tensorflow.org/api_docs/python/tf/contrib/seq2seq/dynamic_decode)"
   ]
  },
  {
   "cell_type": "code",
   "execution_count": 31,
   "metadata": {},
   "outputs": [
    {
     "name": "stdout",
     "output_type": "stream",
     "text": [
      "Tests Passed\n"
     ]
    }
   ],
   "source": [
    "\n",
    "def decoding_layer_train(encoder_state, dec_cell, dec_embed_input, \n",
    "                         target_sequence_length, max_summary_length, \n",
    "                         output_layer, keep_prob):\n",
    "    \"\"\"\n",
    "    Create a decoding layer for training\n",
    "    :param encoder_state: Encoder State\n",
    "    :param dec_cell: Decoder RNN Cell\n",
    "    :param dec_embed_input: Decoder embedded input\n",
    "    :param target_sequence_length: The lengths of each sequence in the target batch\n",
    "    :param max_summary_length: The length of the longest sequence in the batch\n",
    "    :param output_layer: Function to apply the output layer\n",
    "    :param keep_prob: Dropout keep probability\n",
    "    :return: BasicDecoderOutput containing training logits and sample_id\n",
    "    \"\"\"\n",
    "    # Helper for the training process. Used by BasicDecoder to read inputs.\n",
    "    training_helper = tf.contrib.seq2seq.TrainingHelper(\n",
    "        inputs=dec_embed_input, \n",
    "        sequence_length=target_sequence_length)\n",
    "        \n",
    "    # Basic decoder\n",
    "    training_decoder = tf.contrib.seq2seq.BasicDecoder(\n",
    "        dec_cell,\n",
    "        training_helper,\n",
    "        encoder_state,\n",
    "        output_layer) \n",
    "        \n",
    "    # Perform dynamic decoding using the decoder\n",
    "    training_decoder_output, _, _ = tf.contrib.seq2seq.dynamic_decode(\n",
    "        training_decoder,\n",
    "        maximum_iterations=max_summary_length)\n",
    "    \n",
    "    return training_decoder_output\n",
    "\n",
    "\n",
    "\n",
    "\"\"\"\n",
    "DON'T MODIFY ANYTHING IN THIS CELL THAT IS BELOW THIS LINE\n",
    "\"\"\"\n",
    "tests.test_decoding_layer_train(decoding_layer_train)"
   ]
  },
  {
   "cell_type": "markdown",
   "metadata": {},
   "source": [
    "### Decoding - Inference\n",
    "Create inference decoder:\n",
    "* Create a [`tf.contrib.seq2seq.GreedyEmbeddingHelper`](https://www.tensorflow.org/api_docs/python/tf/contrib/seq2seq/GreedyEmbeddingHelper)\n",
    "* Create a [`tf.contrib.seq2seq.BasicDecoder`](https://www.tensorflow.org/api_docs/python/tf/contrib/seq2seq/BasicDecoder)\n",
    "* Obtain the decoder outputs from [`tf.contrib.seq2seq.dynamic_decode`](https://www.tensorflow.org/api_docs/python/tf/contrib/seq2seq/dynamic_decode)"
   ]
  },
  {
   "cell_type": "code",
   "execution_count": 32,
   "metadata": {
    "scrolled": true
   },
   "outputs": [
    {
     "name": "stdout",
     "output_type": "stream",
     "text": [
      "Tests Passed\n"
     ]
    }
   ],
   "source": [
    "def decoding_layer_infer(encoder_state, dec_cell, dec_embeddings, start_of_sequence_id,\n",
    "                         end_of_sequence_id, max_target_sequence_length,\n",
    "                         vocab_size, output_layer, batch_size, keep_prob):\n",
    "    \"\"\"\n",
    "    Create a decoding layer for inference\n",
    "    :param encoder_state: Encoder state\n",
    "    :param dec_cell: Decoder RNN Cell\n",
    "    :param dec_embeddings: Decoder embeddings\n",
    "    :param start_of_sequence_id: GO ID\n",
    "    :param end_of_sequence_id: EOS Id\n",
    "    :param max_target_sequence_length: Maximum length of target sequences\n",
    "    :param vocab_size: Size of decoder/target vocabulary\n",
    "    :param decoding_scope: TenorFlow Variable Scope for decoding\n",
    "    :param output_layer: Function to apply the output layer\n",
    "    :param batch_size: Batch size\n",
    "    :param keep_prob: Dropout keep probability\n",
    "    :return: BasicDecoderOutput containing inference logits and sample_id\n",
    "    \"\"\"\n",
    "    \n",
    "    # Helper for the inference process.\n",
    "    start_tokens = tf.tile(tf.constant([start_of_sequence_id], dtype=tf.int32), [batch_size], name='start_tokens')\n",
    "    inference_helper = tf.contrib.seq2seq.GreedyEmbeddingHelper(\n",
    "        dec_embeddings,\n",
    "        start_tokens,\n",
    "        end_of_sequence_id)\n",
    "\n",
    "    # Basic decoder\n",
    "    inference_decoder = tf.contrib.seq2seq.BasicDecoder(\n",
    "        dec_cell,\n",
    "        inference_helper,\n",
    "        encoder_state,\n",
    "        output_layer)\n",
    "        \n",
    "    # Perform dynamic decoding using the decoder\n",
    "    inference_decoder_output, _, _ = tf.contrib.seq2seq.dynamic_decode(\n",
    "        inference_decoder,\n",
    "        impute_finished=True,\n",
    "        maximum_iterations=max_target_sequence_length)\n",
    "    \n",
    "    return inference_decoder_output\n",
    "\n",
    "\n",
    "\n",
    "\"\"\"\n",
    "DON'T MODIFY ANYTHING IN THIS CELL THAT IS BELOW THIS LINE\n",
    "\"\"\"\n",
    "tests.test_decoding_layer_infer(decoding_layer_infer)"
   ]
  },
  {
   "cell_type": "markdown",
   "metadata": {},
   "source": [
    "### Build the Decoding Layer\n",
    "Implement `decoding_layer()` to create a Decoder RNN layer.\n",
    "\n",
    "* Embed the target sequences\n",
    "* Construct the decoder LSTM cell (just like you constructed the encoder cell above)\n",
    "* Create an output layer to map the outputs of the decoder to the elements of our vocabulary\n",
    "* Use the your `decoding_layer_train(encoder_state, dec_cell, dec_embed_input, target_sequence_length, max_target_sequence_length, output_layer, keep_prob)` function to get the training logits.\n",
    "* Use your `decoding_layer_infer(encoder_state, dec_cell, dec_embeddings, start_of_sequence_id, end_of_sequence_id, max_target_sequence_length, vocab_size, output_layer, batch_size, keep_prob)` function to get the inference logits.\n",
    "\n",
    "Note: You'll need to use [tf.variable_scope](https://www.tensorflow.org/api_docs/python/tf/variable_scope) to share variables between training and inference."
   ]
  },
  {
   "cell_type": "code",
   "execution_count": 33,
   "metadata": {},
   "outputs": [
    {
     "name": "stdout",
     "output_type": "stream",
     "text": [
      "Tests Passed\n"
     ]
    }
   ],
   "source": [
    "def decoding_layer(dec_input, encoder_state,\n",
    "                   target_sequence_length, max_target_sequence_length,\n",
    "                   rnn_size,\n",
    "                   num_layers, target_vocab_to_int, target_vocab_size,\n",
    "                   batch_size, keep_prob, decoding_embedding_size):\n",
    "    \"\"\"\n",
    "    Create decoding layer\n",
    "    :param dec_input: Decoder input\n",
    "    :param encoder_state: Encoder state\n",
    "    :param target_sequence_length: The lengths of each sequence in the target batch\n",
    "    :param max_target_sequence_length: Maximum length of target sequences\n",
    "    :param rnn_size: RNN Size\n",
    "    :param num_layers: Number of layers\n",
    "    :param target_vocab_to_int: Dictionary to go from the target words to an id\n",
    "    :param target_vocab_size: Size of target vocabulary\n",
    "    :param batch_size: The size of the batch\n",
    "    :param keep_prob: Dropout keep probability\n",
    "    :param decoding_embedding_size: Decoding embedding size\n",
    "    :return: Tuple of (Training BasicDecoderOutput, Inference BasicDecoderOutput)\n",
    "    \"\"\"\n",
    "    # 1. Decoder Embedding\n",
    "    dec_embeddings = tf.Variable(tf.random_uniform([target_vocab_size, decoding_embedding_size]))\n",
    "    dec_embed_input = tf.nn.embedding_lookup(dec_embeddings, dec_input)\n",
    "    \n",
    "    # 2. Construct the decoder cell\n",
    "    dec_cell = tf.contrib.rnn.MultiRNNCell([create_lstmcell(rnn_size) for _ in range(num_layers)])    \n",
    "    \n",
    "    # 3. Dense layer to translate the decoder's output at each time \n",
    "    # step into a choice from the target vocabulary\n",
    "    output_layer = Dense(\n",
    "        target_vocab_size,\n",
    "        kernel_initializer = tf.truncated_normal_initializer(mean = 0.0, stddev=0.1))\n",
    "\n",
    "    # 4. Set up a training decoder and an inference decoder\n",
    "    # Training Decoder\n",
    "    with tf.variable_scope(\"decode\"):\n",
    "        decoder_ouput = decoding_layer_train(\n",
    "            encoder_state, \n",
    "            dec_cell, \n",
    "            dec_embed_input, \n",
    "            target_sequence_length, \n",
    "            max_target_sequence_length, \n",
    "            output_layer, \n",
    "            keep_prob)\n",
    "\n",
    "    # 5. Inference Decoder\n",
    "    # Reuses the same parameters trained by the training process\n",
    "    with tf.variable_scope(\"decode\", reuse=True):\n",
    "        inference_decoder_output = decoding_layer_infer(\n",
    "            encoder_state, \n",
    "            dec_cell, \n",
    "            dec_embeddings, \n",
    "            target_vocab_to_int['<GO>'], \n",
    "            target_vocab_to_int['<EOS>'], \n",
    "            max_target_sequence_length, \n",
    "            target_vocab_size, \n",
    "            output_layer, \n",
    "            batch_size, \n",
    "            keep_prob)\n",
    "        \n",
    "    return decoder_ouput, inference_decoder_output\n",
    "\n",
    "\n",
    "\n",
    "\"\"\"\n",
    "DON'T MODIFY ANYTHING IN THIS CELL THAT IS BELOW THIS LINE\n",
    "\"\"\"\n",
    "tests.test_decoding_layer(decoding_layer)"
   ]
  },
  {
   "cell_type": "markdown",
   "metadata": {},
   "source": [
    "### Build the Neural Network\n",
    "Apply the functions you implemented above to:\n",
    "\n",
    "- Encode the input using your `encoding_layer(rnn_inputs, rnn_size, num_layers, keep_prob,  source_sequence_length, source_vocab_size, encoding_embedding_size)`.\n",
    "- Process target data using your `process_decoder_input(target_data, target_vocab_to_int, batch_size)` function.\n",
    "- Decode the encoded input using your `decoding_layer(dec_input, enc_state, target_sequence_length, max_target_sentence_length, rnn_size, num_layers, target_vocab_to_int, target_vocab_size, batch_size, keep_prob, dec_embedding_size)` function."
   ]
  },
  {
   "cell_type": "code",
   "execution_count": 34,
   "metadata": {},
   "outputs": [
    {
     "name": "stdout",
     "output_type": "stream",
     "text": [
      "Tests Passed\n"
     ]
    }
   ],
   "source": [
    "def seq2seq_model(input_data, target_data, keep_prob, batch_size,\n",
    "                  source_sequence_length, target_sequence_length,\n",
    "                  max_target_sentence_length,\n",
    "                  source_vocab_size, target_vocab_size,\n",
    "                  enc_embedding_size, dec_embedding_size,\n",
    "                  rnn_size, num_layers, target_vocab_to_int):\n",
    "    \"\"\"\n",
    "    Build the Sequence-to-Sequence part of the neural network\n",
    "    :param input_data: Input placeholder\n",
    "    :param target_data: Target placeholder\n",
    "    :param keep_prob: Dropout keep probability placeholder\n",
    "    :param batch_size: Batch Size\n",
    "    :param source_sequence_length: Sequence Lengths of source sequences in the batch\n",
    "    :param target_sequence_length: Sequence Lengths of target sequences in the batch\n",
    "    :param source_vocab_size: Source vocabulary size\n",
    "    :param target_vocab_size: Target vocabulary size\n",
    "    :param enc_embedding_size: Decoder embedding size\n",
    "    :param dec_embedding_size: Encoder embedding size\n",
    "    :param rnn_size: RNN Size\n",
    "    :param num_layers: Number of layers\n",
    "    :param target_vocab_to_int: Dictionary to go from the target words to an id\n",
    "    :return: Tuple of (Training BasicDecoderOutput, Inference BasicDecoderOutput)\n",
    "    \"\"\"\n",
    "    # Pass the input data through the encoder. We'll ignore the encoder output, but use the state\n",
    "    _, enc_state = encoding_layer(\n",
    "        input_data, \n",
    "        rnn_size, \n",
    "        num_layers,\n",
    "        keep_prob,\n",
    "        source_sequence_length,\n",
    "        source_vocab_size, \n",
    "        enc_embedding_size)\n",
    "    \n",
    "    # Prepare the target sequences we'll feed to the decoder in training mode\n",
    "    dec_input = process_decoder_input(target_data, target_vocab_to_int, batch_size)\n",
    "    \n",
    "    # Pass encoder state and decoder inputs to the decoders\n",
    "    training_decoder_output, inference_decoder_output = decoding_layer(\n",
    "        dec_input, \n",
    "        enc_state, \n",
    "        target_sequence_length, \n",
    "        max_target_sentence_length, \n",
    "        rnn_size, \n",
    "        num_layers, \n",
    "        target_vocab_to_int, \n",
    "        target_vocab_size, \n",
    "        batch_size, \n",
    "        keep_prob, \n",
    "        dec_embedding_size)\n",
    "    \n",
    "    return training_decoder_output, inference_decoder_output\n",
    "\n",
    "\n",
    "\"\"\"\n",
    "DON'T MODIFY ANYTHING IN THIS CELL THAT IS BELOW THIS LINE\n",
    "\"\"\"\n",
    "tests.test_seq2seq_model(seq2seq_model)"
   ]
  },
  {
   "cell_type": "markdown",
   "metadata": {},
   "source": [
    "## Neural Network Training\n",
    "### Hyperparameters\n",
    "Tune the following parameters:\n",
    "\n",
    "- Set `epochs` to the number of epochs.\n",
    "- Set `batch_size` to the batch size.\n",
    "- Set `rnn_size` to the size of the RNNs.\n",
    "- Set `num_layers` to the number of layers.\n",
    "- Set `encoding_embedding_size` to the size of the embedding for the encoder.\n",
    "- Set `decoding_embedding_size` to the size of the embedding for the decoder.\n",
    "- Set `learning_rate` to the learning rate.\n",
    "- Set `keep_probability` to the Dropout keep probability\n",
    "- Set `display_step` to state how many steps between each debug output statement"
   ]
  },
  {
   "cell_type": "code",
   "execution_count": 35,
   "metadata": {
    "collapsed": true
   },
   "outputs": [],
   "source": [
    "# Number of Epochs\n",
    "epochs = 60\n",
    "# Batch Size\n",
    "batch_size = 128\n",
    "# RNN Size\n",
    "rnn_size = 50\n",
    "# Number of Layers\n",
    "num_layers = 2\n",
    "# Embedding Size\n",
    "encoding_embedding_size = 15\n",
    "decoding_embedding_size = 15\n",
    "# Learning Rate\n",
    "learning_rate = 0.001\n",
    "# Dropout Keep Probability\n",
    "keep_probability = 0.5\n",
    "display_step = 5"
   ]
  },
  {
   "cell_type": "markdown",
   "metadata": {},
   "source": [
    "### Build the Graph\n",
    "Build the graph using the neural network you implemented."
   ]
  },
  {
   "cell_type": "code",
   "execution_count": 36,
   "metadata": {
    "collapsed": true
   },
   "outputs": [],
   "source": [
    "\"\"\"\n",
    "DON'T MODIFY ANYTHING IN THIS CELL\n",
    "\"\"\"\n",
    "save_path = 'checkpoints/dev'\n",
    "(source_int_text, target_int_text), (source_vocab_to_int, target_vocab_to_int), _ = helper.load_preprocess()\n",
    "max_target_sentence_length = max([len(sentence) for sentence in source_int_text])\n",
    "\n",
    "train_graph = tf.Graph()\n",
    "with train_graph.as_default():\n",
    "    input_data, targets, lr, keep_prob, target_sequence_length, max_target_sequence_length, source_sequence_length = model_inputs()\n",
    "\n",
    "    #sequence_length = tf.placeholder_with_default(max_target_sentence_length, None, name='sequence_length')\n",
    "    input_shape = tf.shape(input_data)\n",
    "\n",
    "    train_logits, inference_logits = seq2seq_model(tf.reverse(input_data, [-1]),\n",
    "                                                   targets,\n",
    "                                                   keep_prob,\n",
    "                                                   batch_size,\n",
    "                                                   source_sequence_length,\n",
    "                                                   target_sequence_length,\n",
    "                                                   max_target_sequence_length,\n",
    "                                                   len(source_vocab_to_int),\n",
    "                                                   len(target_vocab_to_int),\n",
    "                                                   encoding_embedding_size,\n",
    "                                                   decoding_embedding_size,\n",
    "                                                   rnn_size,\n",
    "                                                   num_layers,\n",
    "                                                   target_vocab_to_int)\n",
    "\n",
    "\n",
    "    training_logits = tf.identity(train_logits.rnn_output, name='logits')\n",
    "    inference_logits = tf.identity(inference_logits.sample_id, name='predictions')\n",
    "\n",
    "    masks = tf.sequence_mask(target_sequence_length, max_target_sequence_length, dtype=tf.float32, name='masks')\n",
    "\n",
    "    with tf.name_scope(\"optimization\"):\n",
    "        # Loss function\n",
    "        cost = tf.contrib.seq2seq.sequence_loss(\n",
    "            training_logits,\n",
    "            targets,\n",
    "            masks)\n",
    "\n",
    "        # Optimizer\n",
    "        optimizer = tf.train.AdamOptimizer(lr)\n",
    "\n",
    "        # Gradient Clipping\n",
    "        gradients = optimizer.compute_gradients(cost)\n",
    "        capped_gradients = [(tf.clip_by_value(grad, -1., 1.), var) for grad, var in gradients if grad is not None]\n",
    "        train_op = optimizer.apply_gradients(capped_gradients)\n"
   ]
  },
  {
   "cell_type": "markdown",
   "metadata": {},
   "source": [
    "Batch and pad the source and target sequences"
   ]
  },
  {
   "cell_type": "code",
   "execution_count": 37,
   "metadata": {
    "collapsed": true
   },
   "outputs": [],
   "source": [
    "\"\"\"\n",
    "DON'T MODIFY ANYTHING IN THIS CELL\n",
    "\"\"\"\n",
    "def pad_sentence_batch(sentence_batch, pad_int):\n",
    "    \"\"\"Pad sentences with <PAD> so that each sentence of a batch has the same length\"\"\"\n",
    "    max_sentence = max([len(sentence) for sentence in sentence_batch])\n",
    "    return [sentence + [pad_int] * (max_sentence - len(sentence)) for sentence in sentence_batch]\n",
    "\n",
    "\n",
    "def get_batches(sources, targets, batch_size, source_pad_int, target_pad_int):\n",
    "    \"\"\"Batch targets, sources, and the lengths of their sentences together\"\"\"\n",
    "    for batch_i in range(0, len(sources)//batch_size):\n",
    "        start_i = batch_i * batch_size\n",
    "\n",
    "        # Slice the right amount for the batch\n",
    "        sources_batch = sources[start_i:start_i + batch_size]\n",
    "        targets_batch = targets[start_i:start_i + batch_size]\n",
    "\n",
    "        # Pad\n",
    "        pad_sources_batch = np.array(pad_sentence_batch(sources_batch, source_pad_int))\n",
    "        pad_targets_batch = np.array(pad_sentence_batch(targets_batch, target_pad_int))\n",
    "\n",
    "        # Need the lengths for the _lengths parameters\n",
    "        pad_targets_lengths = []\n",
    "        for target in pad_targets_batch:\n",
    "            pad_targets_lengths.append(len(target))\n",
    "\n",
    "        pad_source_lengths = []\n",
    "        for source in pad_sources_batch:\n",
    "            pad_source_lengths.append(len(source))\n",
    "\n",
    "        yield pad_sources_batch, pad_targets_batch, pad_source_lengths, pad_targets_lengths\n"
   ]
  },
  {
   "cell_type": "markdown",
   "metadata": {},
   "source": [
    "### Train\n",
    "Train the neural network on the preprocessed data. If you have a hard time getting a good loss, check the forms to see if anyone is having the same problem."
   ]
  },
  {
   "cell_type": "code",
   "execution_count": 38,
   "metadata": {
    "scrolled": true
   },
   "outputs": [
    {
     "name": "stdout",
     "output_type": "stream",
     "text": [
      "Epoch   0 Batch    5/1077 - Train Accuracy: 0.2668, Validation Accuracy: 0.3104, Loss: 5.7490\n",
      "Epoch   0 Batch   10/1077 - Train Accuracy: 0.2031, Validation Accuracy: 0.3093, Loss: 5.5144\n",
      "Epoch   0 Batch   15/1077 - Train Accuracy: 0.2395, Validation Accuracy: 0.3089, Loss: 5.0594\n",
      "Epoch   0 Batch   20/1077 - Train Accuracy: 0.2359, Validation Accuracy: 0.3097, Loss: 4.6582\n",
      "Epoch   0 Batch   25/1077 - Train Accuracy: 0.2422, Validation Accuracy: 0.3089, Loss: 4.3213\n",
      "Epoch   0 Batch   30/1077 - Train Accuracy: 0.2348, Validation Accuracy: 0.3089, Loss: 4.0326\n",
      "Epoch   0 Batch   35/1077 - Train Accuracy: 0.2348, Validation Accuracy: 0.3050, Loss: 3.8383\n",
      "Epoch   0 Batch   40/1077 - Train Accuracy: 0.2434, Validation Accuracy: 0.3185, Loss: 3.7341\n",
      "Epoch   0 Batch   45/1077 - Train Accuracy: 0.2656, Validation Accuracy: 0.3363, Loss: 3.6527\n",
      "Epoch   0 Batch   50/1077 - Train Accuracy: 0.2602, Validation Accuracy: 0.3370, Loss: 3.6218\n",
      "Epoch   0 Batch   55/1077 - Train Accuracy: 0.2914, Validation Accuracy: 0.3366, Loss: 3.4512\n",
      "Epoch   0 Batch   60/1077 - Train Accuracy: 0.2984, Validation Accuracy: 0.3370, Loss: 3.3924\n",
      "Epoch   0 Batch   65/1077 - Train Accuracy: 0.2294, Validation Accuracy: 0.3370, Loss: 3.6029\n",
      "Epoch   0 Batch   70/1077 - Train Accuracy: 0.2303, Validation Accuracy: 0.3370, Loss: 3.5681\n",
      "Epoch   0 Batch   75/1077 - Train Accuracy: 0.2816, Validation Accuracy: 0.3370, Loss: 3.3571\n",
      "Epoch   0 Batch   80/1077 - Train Accuracy: 0.2715, Validation Accuracy: 0.3370, Loss: 3.3526\n",
      "Epoch   0 Batch   85/1077 - Train Accuracy: 0.2797, Validation Accuracy: 0.3370, Loss: 3.2788\n",
      "Epoch   0 Batch   90/1077 - Train Accuracy: 0.2668, Validation Accuracy: 0.3370, Loss: 3.3543\n",
      "Epoch   0 Batch   95/1077 - Train Accuracy: 0.3188, Validation Accuracy: 0.3366, Loss: 3.2008\n",
      "Epoch   0 Batch  100/1077 - Train Accuracy: 0.2703, Validation Accuracy: 0.3413, Loss: 3.3205\n",
      "Epoch   0 Batch  105/1077 - Train Accuracy: 0.2926, Validation Accuracy: 0.3413, Loss: 3.2294\n",
      "Epoch   0 Batch  110/1077 - Train Accuracy: 0.2895, Validation Accuracy: 0.3402, Loss: 3.1868\n",
      "Epoch   0 Batch  115/1077 - Train Accuracy: 0.2820, Validation Accuracy: 0.3363, Loss: 3.2130\n",
      "Epoch   0 Batch  120/1077 - Train Accuracy: 0.2863, Validation Accuracy: 0.3530, Loss: 3.1939\n",
      "Epoch   0 Batch  125/1077 - Train Accuracy: 0.3259, Validation Accuracy: 0.3654, Loss: 3.0955\n",
      "Epoch   0 Batch  130/1077 - Train Accuracy: 0.3278, Validation Accuracy: 0.3658, Loss: 3.0498\n",
      "Epoch   0 Batch  135/1077 - Train Accuracy: 0.2932, Validation Accuracy: 0.3693, Loss: 3.1962\n",
      "Epoch   0 Batch  140/1077 - Train Accuracy: 0.2636, Validation Accuracy: 0.3565, Loss: 3.2728\n",
      "Epoch   0 Batch  145/1077 - Train Accuracy: 0.3027, Validation Accuracy: 0.3619, Loss: 3.0689\n",
      "Epoch   0 Batch  150/1077 - Train Accuracy: 0.3501, Validation Accuracy: 0.3604, Loss: 2.9731\n",
      "Epoch   0 Batch  155/1077 - Train Accuracy: 0.3090, Validation Accuracy: 0.3555, Loss: 3.0637\n",
      "Epoch   0 Batch  160/1077 - Train Accuracy: 0.3117, Validation Accuracy: 0.3704, Loss: 3.0238\n",
      "Epoch   0 Batch  165/1077 - Train Accuracy: 0.3074, Validation Accuracy: 0.3722, Loss: 3.0541\n",
      "Epoch   0 Batch  170/1077 - Train Accuracy: 0.2930, Validation Accuracy: 0.3700, Loss: 3.1141\n",
      "Epoch   0 Batch  175/1077 - Train Accuracy: 0.3316, Validation Accuracy: 0.3711, Loss: 2.9716\n",
      "Epoch   0 Batch  180/1077 - Train Accuracy: 0.3281, Validation Accuracy: 0.3814, Loss: 3.0130\n",
      "Epoch   0 Batch  185/1077 - Train Accuracy: 0.3242, Validation Accuracy: 0.3764, Loss: 2.9939\n",
      "Epoch   0 Batch  190/1077 - Train Accuracy: 0.3195, Validation Accuracy: 0.3746, Loss: 3.0135\n",
      "Epoch   0 Batch  195/1077 - Train Accuracy: 0.3152, Validation Accuracy: 0.3821, Loss: 2.9953\n",
      "Epoch   0 Batch  200/1077 - Train Accuracy: 0.3371, Validation Accuracy: 0.3832, Loss: 2.9533\n",
      "Epoch   0 Batch  205/1077 - Train Accuracy: 0.3383, Validation Accuracy: 0.3817, Loss: 2.9328\n",
      "Epoch   0 Batch  210/1077 - Train Accuracy: 0.3679, Validation Accuracy: 0.3878, Loss: 2.8438\n",
      "Epoch   0 Batch  215/1077 - Train Accuracy: 0.3309, Validation Accuracy: 0.3881, Loss: 2.9371\n",
      "Epoch   0 Batch  220/1077 - Train Accuracy: 0.3100, Validation Accuracy: 0.3917, Loss: 2.9988\n",
      "Epoch   0 Batch  225/1077 - Train Accuracy: 0.3488, Validation Accuracy: 0.3988, Loss: 2.8827\n",
      "Epoch   0 Batch  230/1077 - Train Accuracy: 0.3824, Validation Accuracy: 0.4045, Loss: 2.7262\n",
      "Epoch   0 Batch  235/1077 - Train Accuracy: 0.4025, Validation Accuracy: 0.4112, Loss: 2.6879\n",
      "Epoch   0 Batch  240/1077 - Train Accuracy: 0.3699, Validation Accuracy: 0.4077, Loss: 2.7625\n",
      "Epoch   0 Batch  245/1077 - Train Accuracy: 0.3876, Validation Accuracy: 0.4222, Loss: 2.7261\n",
      "Epoch   0 Batch  250/1077 - Train Accuracy: 0.4237, Validation Accuracy: 0.4343, Loss: 2.6008\n",
      "Epoch   0 Batch  255/1077 - Train Accuracy: 0.3746, Validation Accuracy: 0.4261, Loss: 2.7872\n",
      "Epoch   0 Batch  260/1077 - Train Accuracy: 0.3984, Validation Accuracy: 0.4304, Loss: 2.6562\n",
      "Epoch   0 Batch  265/1077 - Train Accuracy: 0.3898, Validation Accuracy: 0.4364, Loss: 2.7077\n",
      "Epoch   0 Batch  270/1077 - Train Accuracy: 0.3688, Validation Accuracy: 0.4389, Loss: 2.8613\n",
      "Epoch   0 Batch  275/1077 - Train Accuracy: 0.4245, Validation Accuracy: 0.4403, Loss: 2.5647\n",
      "Epoch   0 Batch  280/1077 - Train Accuracy: 0.3949, Validation Accuracy: 0.4435, Loss: 2.7064\n",
      "Epoch   0 Batch  285/1077 - Train Accuracy: 0.4260, Validation Accuracy: 0.4403, Loss: 2.5569\n",
      "Epoch   0 Batch  290/1077 - Train Accuracy: 0.3863, Validation Accuracy: 0.4350, Loss: 2.7046\n",
      "Epoch   0 Batch  295/1077 - Train Accuracy: 0.3614, Validation Accuracy: 0.4268, Loss: 2.7737\n",
      "Epoch   0 Batch  300/1077 - Train Accuracy: 0.3499, Validation Accuracy: 0.4336, Loss: 2.7988\n",
      "Epoch   0 Batch  305/1077 - Train Accuracy: 0.4031, Validation Accuracy: 0.4450, Loss: 2.6342\n",
      "Epoch   0 Batch  310/1077 - Train Accuracy: 0.3824, Validation Accuracy: 0.4425, Loss: 2.6816\n",
      "Epoch   0 Batch  315/1077 - Train Accuracy: 0.4267, Validation Accuracy: 0.4542, Loss: 2.5525\n",
      "Epoch   0 Batch  320/1077 - Train Accuracy: 0.4062, Validation Accuracy: 0.4556, Loss: 2.6434\n",
      "Epoch   0 Batch  325/1077 - Train Accuracy: 0.4405, Validation Accuracy: 0.4549, Loss: 2.4480\n",
      "Epoch   0 Batch  330/1077 - Train Accuracy: 0.4145, Validation Accuracy: 0.4545, Loss: 2.5766\n",
      "Epoch   0 Batch  335/1077 - Train Accuracy: 0.4479, Validation Accuracy: 0.4560, Loss: 2.3882\n",
      "Epoch   0 Batch  340/1077 - Train Accuracy: 0.3754, Validation Accuracy: 0.4545, Loss: 2.6940\n",
      "Epoch   0 Batch  345/1077 - Train Accuracy: 0.4189, Validation Accuracy: 0.4553, Loss: 2.4919\n",
      "Epoch   0 Batch  350/1077 - Train Accuracy: 0.3918, Validation Accuracy: 0.4560, Loss: 2.6425\n",
      "Epoch   0 Batch  355/1077 - Train Accuracy: 0.4211, Validation Accuracy: 0.4577, Loss: 2.5366\n",
      "Epoch   0 Batch  360/1077 - Train Accuracy: 0.4074, Validation Accuracy: 0.4549, Loss: 2.5452\n",
      "Epoch   0 Batch  365/1077 - Train Accuracy: 0.3844, Validation Accuracy: 0.4553, Loss: 2.5893\n",
      "Epoch   0 Batch  370/1077 - Train Accuracy: 0.4133, Validation Accuracy: 0.4517, Loss: 2.4819\n",
      "Epoch   0 Batch  375/1077 - Train Accuracy: 0.4563, Validation Accuracy: 0.4513, Loss: 2.3125\n",
      "Epoch   0 Batch  380/1077 - Train Accuracy: 0.4133, Validation Accuracy: 0.4538, Loss: 2.4670\n",
      "Epoch   0 Batch  385/1077 - Train Accuracy: 0.3996, Validation Accuracy: 0.4577, Loss: 2.5218\n",
      "Epoch   0 Batch  390/1077 - Train Accuracy: 0.3848, Validation Accuracy: 0.4609, Loss: 2.6025\n",
      "Epoch   0 Batch  395/1077 - Train Accuracy: 0.4390, Validation Accuracy: 0.4609, Loss: 2.3600\n",
      "Epoch   0 Batch  400/1077 - Train Accuracy: 0.3988, Validation Accuracy: 0.4595, Loss: 2.5103\n",
      "Epoch   0 Batch  405/1077 - Train Accuracy: 0.3910, Validation Accuracy: 0.4545, Loss: 2.4969\n",
      "Epoch   0 Batch  410/1077 - Train Accuracy: 0.3754, Validation Accuracy: 0.4545, Loss: 2.5577\n",
      "Epoch   0 Batch  415/1077 - Train Accuracy: 0.4461, Validation Accuracy: 0.4656, Loss: 2.3618\n",
      "Epoch   0 Batch  420/1077 - Train Accuracy: 0.4109, Validation Accuracy: 0.4673, Loss: 2.4490\n",
      "Epoch   0 Batch  425/1077 - Train Accuracy: 0.4308, Validation Accuracy: 0.4648, Loss: 2.3478\n",
      "Epoch   0 Batch  430/1077 - Train Accuracy: 0.4078, Validation Accuracy: 0.4673, Loss: 2.3960\n",
      "Epoch   0 Batch  435/1077 - Train Accuracy: 0.3914, Validation Accuracy: 0.4759, Loss: 2.5821\n",
      "Epoch   0 Batch  440/1077 - Train Accuracy: 0.4137, Validation Accuracy: 0.4691, Loss: 2.3805\n"
     ]
    },
    {
     "name": "stdout",
     "output_type": "stream",
     "text": [
      "Epoch   0 Batch  445/1077 - Train Accuracy: 0.3993, Validation Accuracy: 0.4759, Loss: 2.5087\n",
      "Epoch   0 Batch  450/1077 - Train Accuracy: 0.4254, Validation Accuracy: 0.4751, Loss: 2.3858\n",
      "Epoch   0 Batch  455/1077 - Train Accuracy: 0.4709, Validation Accuracy: 0.4787, Loss: 2.1844\n",
      "Epoch   0 Batch  460/1077 - Train Accuracy: 0.4176, Validation Accuracy: 0.4844, Loss: 2.3964\n",
      "Epoch   0 Batch  465/1077 - Train Accuracy: 0.3906, Validation Accuracy: 0.4808, Loss: 2.5482\n",
      "Epoch   0 Batch  470/1077 - Train Accuracy: 0.4182, Validation Accuracy: 0.4815, Loss: 2.4292\n",
      "Epoch   0 Batch  475/1077 - Train Accuracy: 0.4598, Validation Accuracy: 0.4822, Loss: 2.2174\n",
      "Epoch   0 Batch  480/1077 - Train Accuracy: 0.4453, Validation Accuracy: 0.4964, Loss: 2.3693\n",
      "Epoch   0 Batch  485/1077 - Train Accuracy: 0.4363, Validation Accuracy: 0.4904, Loss: 2.3232\n",
      "Epoch   0 Batch  490/1077 - Train Accuracy: 0.4297, Validation Accuracy: 0.4975, Loss: 2.3528\n",
      "Epoch   0 Batch  495/1077 - Train Accuracy: 0.4266, Validation Accuracy: 0.4847, Loss: 2.2728\n",
      "Epoch   0 Batch  500/1077 - Train Accuracy: 0.4512, Validation Accuracy: 0.4964, Loss: 2.2727\n",
      "Epoch   0 Batch  505/1077 - Train Accuracy: 0.4799, Validation Accuracy: 0.5014, Loss: 2.1495\n",
      "Epoch   0 Batch  510/1077 - Train Accuracy: 0.4766, Validation Accuracy: 0.5039, Loss: 2.2116\n",
      "Epoch   0 Batch  515/1077 - Train Accuracy: 0.4520, Validation Accuracy: 0.5089, Loss: 2.2906\n",
      "Epoch   0 Batch  520/1077 - Train Accuracy: 0.4933, Validation Accuracy: 0.5092, Loss: 2.1382\n",
      "Epoch   0 Batch  525/1077 - Train Accuracy: 0.4602, Validation Accuracy: 0.5050, Loss: 2.2595\n",
      "Epoch   0 Batch  530/1077 - Train Accuracy: 0.4469, Validation Accuracy: 0.5103, Loss: 2.2743\n",
      "Epoch   0 Batch  535/1077 - Train Accuracy: 0.4441, Validation Accuracy: 0.5053, Loss: 2.1871\n",
      "Epoch   0 Batch  540/1077 - Train Accuracy: 0.4492, Validation Accuracy: 0.5075, Loss: 2.1074\n",
      "Epoch   0 Batch  545/1077 - Train Accuracy: 0.4395, Validation Accuracy: 0.5121, Loss: 2.2759\n",
      "Epoch   0 Batch  550/1077 - Train Accuracy: 0.4223, Validation Accuracy: 0.5064, Loss: 2.2618\n",
      "Epoch   0 Batch  555/1077 - Train Accuracy: 0.4602, Validation Accuracy: 0.5036, Loss: 2.1361\n",
      "Epoch   0 Batch  560/1077 - Train Accuracy: 0.4727, Validation Accuracy: 0.5078, Loss: 2.1127\n",
      "Epoch   0 Batch  565/1077 - Train Accuracy: 0.4736, Validation Accuracy: 0.5124, Loss: 2.1216\n",
      "Epoch   0 Batch  570/1077 - Train Accuracy: 0.4535, Validation Accuracy: 0.5110, Loss: 2.1989\n",
      "Epoch   0 Batch  575/1077 - Train Accuracy: 0.4855, Validation Accuracy: 0.5043, Loss: 2.0388\n",
      "Epoch   0 Batch  580/1077 - Train Accuracy: 0.4855, Validation Accuracy: 0.5014, Loss: 2.0182\n",
      "Epoch   0 Batch  585/1077 - Train Accuracy: 0.4821, Validation Accuracy: 0.5050, Loss: 1.9440\n",
      "Epoch   0 Batch  590/1077 - Train Accuracy: 0.4326, Validation Accuracy: 0.5078, Loss: 2.1680\n",
      "Epoch   0 Batch  595/1077 - Train Accuracy: 0.4449, Validation Accuracy: 0.5099, Loss: 2.1316\n",
      "Epoch   0 Batch  600/1077 - Train Accuracy: 0.4963, Validation Accuracy: 0.5089, Loss: 1.9543\n",
      "Epoch   0 Batch  605/1077 - Train Accuracy: 0.4322, Validation Accuracy: 0.5053, Loss: 2.1221\n",
      "Epoch   0 Batch  610/1077 - Train Accuracy: 0.4305, Validation Accuracy: 0.5107, Loss: 2.0976\n",
      "Epoch   0 Batch  615/1077 - Train Accuracy: 0.4855, Validation Accuracy: 0.5103, Loss: 1.9584\n",
      "Epoch   0 Batch  620/1077 - Train Accuracy: 0.4477, Validation Accuracy: 0.5117, Loss: 1.9933\n",
      "Epoch   0 Batch  625/1077 - Train Accuracy: 0.4770, Validation Accuracy: 0.5170, Loss: 1.9576\n",
      "Epoch   0 Batch  630/1077 - Train Accuracy: 0.4707, Validation Accuracy: 0.5107, Loss: 1.9459\n",
      "Epoch   0 Batch  635/1077 - Train Accuracy: 0.4252, Validation Accuracy: 0.5124, Loss: 2.0625\n",
      "Epoch   0 Batch  640/1077 - Train Accuracy: 0.4654, Validation Accuracy: 0.5110, Loss: 1.8902\n",
      "Epoch   0 Batch  645/1077 - Train Accuracy: 0.4892, Validation Accuracy: 0.5085, Loss: 1.8641\n",
      "Epoch   0 Batch  650/1077 - Train Accuracy: 0.4477, Validation Accuracy: 0.5124, Loss: 1.9479\n",
      "Epoch   0 Batch  655/1077 - Train Accuracy: 0.4637, Validation Accuracy: 0.5163, Loss: 1.8975\n",
      "Epoch   0 Batch  660/1077 - Train Accuracy: 0.4527, Validation Accuracy: 0.5170, Loss: 1.9198\n",
      "Epoch   0 Batch  665/1077 - Train Accuracy: 0.4414, Validation Accuracy: 0.5135, Loss: 1.8955\n",
      "Epoch   0 Batch  670/1077 - Train Accuracy: 0.5252, Validation Accuracy: 0.5107, Loss: 1.6851\n",
      "Epoch   0 Batch  675/1077 - Train Accuracy: 0.4714, Validation Accuracy: 0.5099, Loss: 1.8180\n",
      "Epoch   0 Batch  680/1077 - Train Accuracy: 0.4647, Validation Accuracy: 0.5075, Loss: 1.8242\n",
      "Epoch   0 Batch  685/1077 - Train Accuracy: 0.4398, Validation Accuracy: 0.5060, Loss: 1.9073\n",
      "Epoch   0 Batch  690/1077 - Train Accuracy: 0.4520, Validation Accuracy: 0.5067, Loss: 1.8175\n",
      "Epoch   0 Batch  695/1077 - Train Accuracy: 0.4746, Validation Accuracy: 0.5110, Loss: 1.8084\n",
      "Epoch   0 Batch  700/1077 - Train Accuracy: 0.4625, Validation Accuracy: 0.5078, Loss: 1.7902\n",
      "Epoch   0 Batch  705/1077 - Train Accuracy: 0.4252, Validation Accuracy: 0.5053, Loss: 1.8928\n",
      "Epoch   0 Batch  710/1077 - Train Accuracy: 0.4270, Validation Accuracy: 0.5060, Loss: 1.8214\n",
      "Epoch   0 Batch  715/1077 - Train Accuracy: 0.4508, Validation Accuracy: 0.5039, Loss: 1.8311\n",
      "Epoch   0 Batch  720/1077 - Train Accuracy: 0.4379, Validation Accuracy: 0.4986, Loss: 1.8845\n",
      "Epoch   0 Batch  725/1077 - Train Accuracy: 0.4583, Validation Accuracy: 0.5135, Loss: 1.6979\n",
      "Epoch   0 Batch  730/1077 - Train Accuracy: 0.4313, Validation Accuracy: 0.5007, Loss: 1.7716\n",
      "Epoch   0 Batch  735/1077 - Train Accuracy: 0.4691, Validation Accuracy: 0.5082, Loss: 1.7695\n",
      "Epoch   0 Batch  740/1077 - Train Accuracy: 0.4852, Validation Accuracy: 0.5036, Loss: 1.7269\n",
      "Epoch   0 Batch  745/1077 - Train Accuracy: 0.4770, Validation Accuracy: 0.5082, Loss: 1.7194\n",
      "Epoch   0 Batch  750/1077 - Train Accuracy: 0.4629, Validation Accuracy: 0.5064, Loss: 1.7343\n",
      "Epoch   0 Batch  755/1077 - Train Accuracy: 0.4512, Validation Accuracy: 0.5089, Loss: 1.7016\n",
      "Epoch   0 Batch  760/1077 - Train Accuracy: 0.4727, Validation Accuracy: 0.5089, Loss: 1.7311\n",
      "Epoch   0 Batch  765/1077 - Train Accuracy: 0.4805, Validation Accuracy: 0.5089, Loss: 1.6528\n",
      "Epoch   0 Batch  770/1077 - Train Accuracy: 0.4728, Validation Accuracy: 0.5096, Loss: 1.6509\n",
      "Epoch   0 Batch  775/1077 - Train Accuracy: 0.4672, Validation Accuracy: 0.5057, Loss: 1.6882\n",
      "Epoch   0 Batch  780/1077 - Train Accuracy: 0.4645, Validation Accuracy: 0.5096, Loss: 1.7118\n",
      "Epoch   0 Batch  785/1077 - Train Accuracy: 0.4710, Validation Accuracy: 0.5043, Loss: 1.6303\n"
     ]
    },
    {
     "ename": "KeyboardInterrupt",
     "evalue": "",
     "output_type": "error",
     "traceback": [
      "\u001b[1;31m---------------------------------------------------------------------------\u001b[0m",
      "\u001b[1;31mKeyboardInterrupt\u001b[0m                         Traceback (most recent call last)",
      "\u001b[1;32m<ipython-input-38-8b554ffa681f>\u001b[0m in \u001b[0;36m<module>\u001b[1;34m()\u001b[0m\n\u001b[0;32m     46\u001b[0m                  \u001b[0mtarget_sequence_length\u001b[0m\u001b[1;33m:\u001b[0m \u001b[0mtargets_lengths\u001b[0m\u001b[1;33m,\u001b[0m\u001b[1;33m\u001b[0m\u001b[0m\n\u001b[0;32m     47\u001b[0m                  \u001b[0msource_sequence_length\u001b[0m\u001b[1;33m:\u001b[0m \u001b[0msources_lengths\u001b[0m\u001b[1;33m,\u001b[0m\u001b[1;33m\u001b[0m\u001b[0m\n\u001b[1;32m---> 48\u001b[1;33m                  keep_prob: keep_probability})\n\u001b[0m\u001b[0;32m     49\u001b[0m \u001b[1;33m\u001b[0m\u001b[0m\n\u001b[0;32m     50\u001b[0m \u001b[1;33m\u001b[0m\u001b[0m\n",
      "\u001b[1;32mC:\\ProgramData\\Anaconda3\\envs\\language-translation\\lib\\site-packages\\tensorflow\\python\\client\\session.py\u001b[0m in \u001b[0;36mrun\u001b[1;34m(self, fetches, feed_dict, options, run_metadata)\u001b[0m\n\u001b[0;32m    787\u001b[0m     \u001b[1;32mtry\u001b[0m\u001b[1;33m:\u001b[0m\u001b[1;33m\u001b[0m\u001b[0m\n\u001b[0;32m    788\u001b[0m       result = self._run(None, fetches, feed_dict, options_ptr,\n\u001b[1;32m--> 789\u001b[1;33m                          run_metadata_ptr)\n\u001b[0m\u001b[0;32m    790\u001b[0m       \u001b[1;32mif\u001b[0m \u001b[0mrun_metadata\u001b[0m\u001b[1;33m:\u001b[0m\u001b[1;33m\u001b[0m\u001b[0m\n\u001b[0;32m    791\u001b[0m         \u001b[0mproto_data\u001b[0m \u001b[1;33m=\u001b[0m \u001b[0mtf_session\u001b[0m\u001b[1;33m.\u001b[0m\u001b[0mTF_GetBuffer\u001b[0m\u001b[1;33m(\u001b[0m\u001b[0mrun_metadata_ptr\u001b[0m\u001b[1;33m)\u001b[0m\u001b[1;33m\u001b[0m\u001b[0m\n",
      "\u001b[1;32mC:\\ProgramData\\Anaconda3\\envs\\language-translation\\lib\\site-packages\\tensorflow\\python\\client\\session.py\u001b[0m in \u001b[0;36m_run\u001b[1;34m(self, handle, fetches, feed_dict, options, run_metadata)\u001b[0m\n\u001b[0;32m    995\u001b[0m     \u001b[1;32mif\u001b[0m \u001b[0mfinal_fetches\u001b[0m \u001b[1;32mor\u001b[0m \u001b[0mfinal_targets\u001b[0m\u001b[1;33m:\u001b[0m\u001b[1;33m\u001b[0m\u001b[0m\n\u001b[0;32m    996\u001b[0m       results = self._do_run(handle, final_targets, final_fetches,\n\u001b[1;32m--> 997\u001b[1;33m                              feed_dict_string, options, run_metadata)\n\u001b[0m\u001b[0;32m    998\u001b[0m     \u001b[1;32melse\u001b[0m\u001b[1;33m:\u001b[0m\u001b[1;33m\u001b[0m\u001b[0m\n\u001b[0;32m    999\u001b[0m       \u001b[0mresults\u001b[0m \u001b[1;33m=\u001b[0m \u001b[1;33m[\u001b[0m\u001b[1;33m]\u001b[0m\u001b[1;33m\u001b[0m\u001b[0m\n",
      "\u001b[1;32mC:\\ProgramData\\Anaconda3\\envs\\language-translation\\lib\\site-packages\\tensorflow\\python\\client\\session.py\u001b[0m in \u001b[0;36m_do_run\u001b[1;34m(self, handle, target_list, fetch_list, feed_dict, options, run_metadata)\u001b[0m\n\u001b[0;32m   1130\u001b[0m     \u001b[1;32mif\u001b[0m \u001b[0mhandle\u001b[0m \u001b[1;32mis\u001b[0m \u001b[1;32mNone\u001b[0m\u001b[1;33m:\u001b[0m\u001b[1;33m\u001b[0m\u001b[0m\n\u001b[0;32m   1131\u001b[0m       return self._do_call(_run_fn, self._session, feed_dict, fetch_list,\n\u001b[1;32m-> 1132\u001b[1;33m                            target_list, options, run_metadata)\n\u001b[0m\u001b[0;32m   1133\u001b[0m     \u001b[1;32melse\u001b[0m\u001b[1;33m:\u001b[0m\u001b[1;33m\u001b[0m\u001b[0m\n\u001b[0;32m   1134\u001b[0m       return self._do_call(_prun_fn, self._session, handle, feed_dict,\n",
      "\u001b[1;32mC:\\ProgramData\\Anaconda3\\envs\\language-translation\\lib\\site-packages\\tensorflow\\python\\client\\session.py\u001b[0m in \u001b[0;36m_do_call\u001b[1;34m(self, fn, *args)\u001b[0m\n\u001b[0;32m   1137\u001b[0m   \u001b[1;32mdef\u001b[0m \u001b[0m_do_call\u001b[0m\u001b[1;33m(\u001b[0m\u001b[0mself\u001b[0m\u001b[1;33m,\u001b[0m \u001b[0mfn\u001b[0m\u001b[1;33m,\u001b[0m \u001b[1;33m*\u001b[0m\u001b[0margs\u001b[0m\u001b[1;33m)\u001b[0m\u001b[1;33m:\u001b[0m\u001b[1;33m\u001b[0m\u001b[0m\n\u001b[0;32m   1138\u001b[0m     \u001b[1;32mtry\u001b[0m\u001b[1;33m:\u001b[0m\u001b[1;33m\u001b[0m\u001b[0m\n\u001b[1;32m-> 1139\u001b[1;33m       \u001b[1;32mreturn\u001b[0m \u001b[0mfn\u001b[0m\u001b[1;33m(\u001b[0m\u001b[1;33m*\u001b[0m\u001b[0margs\u001b[0m\u001b[1;33m)\u001b[0m\u001b[1;33m\u001b[0m\u001b[0m\n\u001b[0m\u001b[0;32m   1140\u001b[0m     \u001b[1;32mexcept\u001b[0m \u001b[0merrors\u001b[0m\u001b[1;33m.\u001b[0m\u001b[0mOpError\u001b[0m \u001b[1;32mas\u001b[0m \u001b[0me\u001b[0m\u001b[1;33m:\u001b[0m\u001b[1;33m\u001b[0m\u001b[0m\n\u001b[0;32m   1141\u001b[0m       \u001b[0mmessage\u001b[0m \u001b[1;33m=\u001b[0m \u001b[0mcompat\u001b[0m\u001b[1;33m.\u001b[0m\u001b[0mas_text\u001b[0m\u001b[1;33m(\u001b[0m\u001b[0me\u001b[0m\u001b[1;33m.\u001b[0m\u001b[0mmessage\u001b[0m\u001b[1;33m)\u001b[0m\u001b[1;33m\u001b[0m\u001b[0m\n",
      "\u001b[1;32mC:\\ProgramData\\Anaconda3\\envs\\language-translation\\lib\\site-packages\\tensorflow\\python\\client\\session.py\u001b[0m in \u001b[0;36m_run_fn\u001b[1;34m(session, feed_dict, fetch_list, target_list, options, run_metadata)\u001b[0m\n\u001b[0;32m   1119\u001b[0m         return tf_session.TF_Run(session, options,\n\u001b[0;32m   1120\u001b[0m                                  \u001b[0mfeed_dict\u001b[0m\u001b[1;33m,\u001b[0m \u001b[0mfetch_list\u001b[0m\u001b[1;33m,\u001b[0m \u001b[0mtarget_list\u001b[0m\u001b[1;33m,\u001b[0m\u001b[1;33m\u001b[0m\u001b[0m\n\u001b[1;32m-> 1121\u001b[1;33m                                  status, run_metadata)\n\u001b[0m\u001b[0;32m   1122\u001b[0m \u001b[1;33m\u001b[0m\u001b[0m\n\u001b[0;32m   1123\u001b[0m     \u001b[1;32mdef\u001b[0m \u001b[0m_prun_fn\u001b[0m\u001b[1;33m(\u001b[0m\u001b[0msession\u001b[0m\u001b[1;33m,\u001b[0m \u001b[0mhandle\u001b[0m\u001b[1;33m,\u001b[0m \u001b[0mfeed_dict\u001b[0m\u001b[1;33m,\u001b[0m \u001b[0mfetch_list\u001b[0m\u001b[1;33m)\u001b[0m\u001b[1;33m:\u001b[0m\u001b[1;33m\u001b[0m\u001b[0m\n",
      "\u001b[1;31mKeyboardInterrupt\u001b[0m: "
     ]
    }
   ],
   "source": [
    "\"\"\"\n",
    "DON'T MODIFY ANYTHING IN THIS CELL\n",
    "\"\"\"\n",
    "def get_accuracy(target, logits):\n",
    "    \"\"\"\n",
    "    Calculate accuracy\n",
    "    \"\"\"\n",
    "    max_seq = max(target.shape[1], logits.shape[1])\n",
    "    if max_seq - target.shape[1]:\n",
    "        target = np.pad(\n",
    "            target,\n",
    "            [(0,0),(0,max_seq - target.shape[1])],\n",
    "            'constant')\n",
    "    if max_seq - logits.shape[1]:\n",
    "        logits = np.pad(\n",
    "            logits,\n",
    "            [(0,0),(0,max_seq - logits.shape[1])],\n",
    "            'constant')\n",
    "\n",
    "    return np.mean(np.equal(target, logits))\n",
    "\n",
    "# Split data to training and validation sets\n",
    "train_source = source_int_text[batch_size:]\n",
    "train_target = target_int_text[batch_size:]\n",
    "valid_source = source_int_text[:batch_size]\n",
    "valid_target = target_int_text[:batch_size]\n",
    "(valid_sources_batch, valid_targets_batch, valid_sources_lengths, valid_targets_lengths ) = next(get_batches(valid_source,\n",
    "                                                                                                             valid_target,\n",
    "                                                                                                             batch_size,\n",
    "                                                                                                             source_vocab_to_int['<PAD>'],\n",
    "                                                                                                             target_vocab_to_int['<PAD>']))                                                                                                  \n",
    "with tf.Session(graph=train_graph) as sess:\n",
    "    sess.run(tf.global_variables_initializer())\n",
    "\n",
    "    for epoch_i in range(epochs):\n",
    "        for batch_i, (source_batch, target_batch, sources_lengths, targets_lengths) in enumerate(\n",
    "                get_batches(train_source, train_target, batch_size,\n",
    "                            source_vocab_to_int['<PAD>'],\n",
    "                            target_vocab_to_int['<PAD>'])):\n",
    "\n",
    "            _, loss = sess.run(\n",
    "                [train_op, cost],\n",
    "                {input_data: source_batch,\n",
    "                 targets: target_batch,\n",
    "                 lr: learning_rate,\n",
    "                 target_sequence_length: targets_lengths,\n",
    "                 source_sequence_length: sources_lengths,\n",
    "                 keep_prob: keep_probability})\n",
    "\n",
    "\n",
    "            if batch_i % display_step == 0 and batch_i > 0:\n",
    "\n",
    "\n",
    "                batch_train_logits = sess.run(\n",
    "                    inference_logits,\n",
    "                    {input_data: source_batch,\n",
    "                     source_sequence_length: sources_lengths,\n",
    "                     target_sequence_length: targets_lengths,\n",
    "                     keep_prob: 1.0})\n",
    "\n",
    "\n",
    "                batch_valid_logits = sess.run(\n",
    "                    inference_logits,\n",
    "                    {input_data: valid_sources_batch,\n",
    "                     source_sequence_length: valid_sources_lengths,\n",
    "                     target_sequence_length: valid_targets_lengths,\n",
    "                     keep_prob: 1.0})\n",
    "\n",
    "                train_acc = get_accuracy(target_batch, batch_train_logits)\n",
    "\n",
    "                valid_acc = get_accuracy(valid_targets_batch, batch_valid_logits)\n",
    "\n",
    "                print('Epoch {:>3} Batch {:>4}/{} - Train Accuracy: {:>6.4f}, Validation Accuracy: {:>6.4f}, Loss: {:>6.4f}'\n",
    "                      .format(epoch_i, batch_i, len(source_int_text) // batch_size, train_acc, valid_acc, loss))\n",
    "\n",
    "    # Save Model\n",
    "    saver = tf.train.Saver()\n",
    "    saver.save(sess, save_path)\n",
    "    print('Model Trained and Saved')"
   ]
  },
  {
   "cell_type": "markdown",
   "metadata": {},
   "source": [
    "### Save Parameters\n",
    "Save the `batch_size` and `save_path` parameters for inference."
   ]
  },
  {
   "cell_type": "code",
   "execution_count": null,
   "metadata": {
    "collapsed": true
   },
   "outputs": [],
   "source": [
    "\"\"\"\n",
    "DON'T MODIFY ANYTHING IN THIS CELL\n",
    "\"\"\"\n",
    "# Save parameters for checkpoint\n",
    "helper.save_params(save_path)"
   ]
  },
  {
   "cell_type": "markdown",
   "metadata": {},
   "source": [
    "# Checkpoint"
   ]
  },
  {
   "cell_type": "code",
   "execution_count": 39,
   "metadata": {},
   "outputs": [
    {
     "ename": "FileNotFoundError",
     "evalue": "[Errno 2] No such file or directory: 'params.p'",
     "output_type": "error",
     "traceback": [
      "\u001b[1;31m---------------------------------------------------------------------------\u001b[0m",
      "\u001b[1;31mFileNotFoundError\u001b[0m                         Traceback (most recent call last)",
      "\u001b[1;32m<ipython-input-39-f7a26e5dc868>\u001b[0m in \u001b[0;36m<module>\u001b[1;34m()\u001b[0m\n\u001b[0;32m      8\u001b[0m \u001b[1;33m\u001b[0m\u001b[0m\n\u001b[0;32m      9\u001b[0m \u001b[0m_\u001b[0m\u001b[1;33m,\u001b[0m \u001b[1;33m(\u001b[0m\u001b[0msource_vocab_to_int\u001b[0m\u001b[1;33m,\u001b[0m \u001b[0mtarget_vocab_to_int\u001b[0m\u001b[1;33m)\u001b[0m\u001b[1;33m,\u001b[0m \u001b[1;33m(\u001b[0m\u001b[0msource_int_to_vocab\u001b[0m\u001b[1;33m,\u001b[0m \u001b[0mtarget_int_to_vocab\u001b[0m\u001b[1;33m)\u001b[0m \u001b[1;33m=\u001b[0m \u001b[0mhelper\u001b[0m\u001b[1;33m.\u001b[0m\u001b[0mload_preprocess\u001b[0m\u001b[1;33m(\u001b[0m\u001b[1;33m)\u001b[0m\u001b[1;33m\u001b[0m\u001b[0m\n\u001b[1;32m---> 10\u001b[1;33m \u001b[0mload_path\u001b[0m \u001b[1;33m=\u001b[0m \u001b[0mhelper\u001b[0m\u001b[1;33m.\u001b[0m\u001b[0mload_params\u001b[0m\u001b[1;33m(\u001b[0m\u001b[1;33m)\u001b[0m\u001b[1;33m\u001b[0m\u001b[0m\n\u001b[0m",
      "\u001b[1;32mD:\\personal_repositories\\language-translation\\helper.py\u001b[0m in \u001b[0;36mload_params\u001b[1;34m()\u001b[0m\n\u001b[0;32m     76\u001b[0m     \u001b[0mLoad\u001b[0m \u001b[0mparameters\u001b[0m \u001b[1;32mfrom\u001b[0m \u001b[0mfile\u001b[0m\u001b[1;33m\u001b[0m\u001b[0m\n\u001b[0;32m     77\u001b[0m     \"\"\"\n\u001b[1;32m---> 78\u001b[1;33m     \u001b[1;32mwith\u001b[0m \u001b[0mopen\u001b[0m\u001b[1;33m(\u001b[0m\u001b[1;34m'params.p'\u001b[0m\u001b[1;33m,\u001b[0m \u001b[0mmode\u001b[0m\u001b[1;33m=\u001b[0m\u001b[1;34m'rb'\u001b[0m\u001b[1;33m)\u001b[0m \u001b[1;32mas\u001b[0m \u001b[0min_file\u001b[0m\u001b[1;33m:\u001b[0m\u001b[1;33m\u001b[0m\u001b[0m\n\u001b[0m\u001b[0;32m     79\u001b[0m         \u001b[1;32mreturn\u001b[0m \u001b[0mpickle\u001b[0m\u001b[1;33m.\u001b[0m\u001b[0mload\u001b[0m\u001b[1;33m(\u001b[0m\u001b[0min_file\u001b[0m\u001b[1;33m)\u001b[0m\u001b[1;33m\u001b[0m\u001b[0m\n\u001b[0;32m     80\u001b[0m \u001b[1;33m\u001b[0m\u001b[0m\n",
      "\u001b[1;31mFileNotFoundError\u001b[0m: [Errno 2] No such file or directory: 'params.p'"
     ]
    }
   ],
   "source": [
    "\"\"\"\n",
    "DON'T MODIFY ANYTHING IN THIS CELL\n",
    "\"\"\"\n",
    "import tensorflow as tf\n",
    "import numpy as np\n",
    "import helper\n",
    "import problem_unittests as tests\n",
    "\n",
    "_, (source_vocab_to_int, target_vocab_to_int), (source_int_to_vocab, target_int_to_vocab) = helper.load_preprocess()\n",
    "load_path = helper.load_params()"
   ]
  },
  {
   "cell_type": "markdown",
   "metadata": {},
   "source": [
    "## Sentence to Sequence\n",
    "To feed a sentence into the model for translation, you first need to preprocess it.  Implement the function `sentence_to_seq()` to preprocess new sentences.\n",
    "\n",
    "- Convert the sentence to lowercase\n",
    "- Convert words into ids using `vocab_to_int`\n",
    " - Convert words not in the vocabulary, to the `<UNK>` word id."
   ]
  },
  {
   "cell_type": "code",
   "execution_count": 52,
   "metadata": {},
   "outputs": [
    {
     "name": "stdout",
     "output_type": "stream",
     "text": [
      "Tests Passed\n"
     ]
    }
   ],
   "source": [
    "def sentence_to_seq(sentence, vocab_to_int):\n",
    "    \"\"\"\n",
    "    Convert a sentence to a sequence of ids\n",
    "    :param sentence: String\n",
    "    :param vocab_to_int: Dictionary to go from the words to an id\n",
    "    :return: List of word ids\n",
    "    \"\"\"\n",
    "    lowercase_sentence = sentence.lower()\n",
    "    transation = [vocab_to_int[word] if word in vocab_to_int else vocab_to_int['<UNK>'] for word in lowercase_sentence.split(' ')]\n",
    "\n",
    "    return transation\n",
    "\n",
    "\n",
    "\"\"\"\n",
    "DON'T MODIFY ANYTHING IN THIS CELL THAT IS BELOW THIS LINE\n",
    "\"\"\"\n",
    "tests.test_sentence_to_seq(sentence_to_seq)"
   ]
  },
  {
   "cell_type": "markdown",
   "metadata": {},
   "source": [
    "## Translate\n",
    "This will translate `translate_sentence` from English to French."
   ]
  },
  {
   "cell_type": "code",
   "execution_count": null,
   "metadata": {
    "collapsed": true
   },
   "outputs": [],
   "source": [
    "translate_sentence = 'he saw a old yellow truck .'\n",
    "\n",
    "\n",
    "\"\"\"\n",
    "DON'T MODIFY ANYTHING IN THIS CELL\n",
    "\"\"\"\n",
    "translate_sentence = sentence_to_seq(translate_sentence, source_vocab_to_int)\n",
    "\n",
    "loaded_graph = tf.Graph()\n",
    "with tf.Session(graph=loaded_graph) as sess:\n",
    "    # Load saved model\n",
    "    loader = tf.train.import_meta_graph(load_path + '.meta')\n",
    "    loader.restore(sess, load_path)\n",
    "\n",
    "    input_data = loaded_graph.get_tensor_by_name('input:0')\n",
    "    logits = loaded_graph.get_tensor_by_name('predictions:0')\n",
    "    target_sequence_length = loaded_graph.get_tensor_by_name('target_sequence_length:0')\n",
    "    source_sequence_length = loaded_graph.get_tensor_by_name('source_sequence_length:0')\n",
    "    keep_prob = loaded_graph.get_tensor_by_name('keep_prob:0')\n",
    "\n",
    "    translate_logits = sess.run(logits, {input_data: [translate_sentence]*batch_size,\n",
    "                                         target_sequence_length: [len(translate_sentence)*2]*batch_size,\n",
    "                                         source_sequence_length: [len(translate_sentence)]*batch_size,\n",
    "                                         keep_prob: 1.0})[0]\n",
    "\n",
    "print('Input')\n",
    "print('  Word Ids:      {}'.format([i for i in translate_sentence]))\n",
    "print('  English Words: {}'.format([source_int_to_vocab[i] for i in translate_sentence]))\n",
    "\n",
    "print('\\nPrediction')\n",
    "print('  Word Ids:      {}'.format([i for i in translate_logits]))\n",
    "print('  French Words: {}'.format(\" \".join([target_int_to_vocab[i] for i in translate_logits])))\n"
   ]
  },
  {
   "cell_type": "markdown",
   "metadata": {},
   "source": [
    "## Imperfect Translation\n",
    "You might notice that some sentences translate better than others.  Since the dataset you're using only has a vocabulary of 227 English words of the thousands that you use, you're only going to see good results using these words.  For this project, you don't need a perfect translation. However, if you want to create a better translation model, you'll need better data.\n",
    "\n",
    "You can train on the [WMT10 French-English corpus](http://www.statmt.org/wmt10/training-giga-fren.tar).  This dataset has more vocabulary and richer in topics discussed.  However, this will take you days to train, so make sure you've a GPU and the neural network is performing well on dataset we provided.  Just make sure you play with the WMT10 corpus after you've submitted this project.\n",
    "## Submitting This Project\n",
    "When submitting this project, make sure to run all the cells before saving the notebook. Save the notebook file as \"dlnd_language_translation.ipynb\" and save it as a HTML file under \"File\" -> \"Download as\". Include the \"helper.py\" and \"problem_unittests.py\" files in your submission."
   ]
  }
 ],
 "metadata": {
  "anaconda-cloud": {},
  "kernelspec": {
   "display_name": "Python 3",
   "language": "python",
   "name": "python3"
  },
  "language_info": {
   "codemirror_mode": {
    "name": "ipython",
    "version": 3
   },
   "file_extension": ".py",
   "mimetype": "text/x-python",
   "name": "python",
   "nbconvert_exporter": "python",
   "pygments_lexer": "ipython3",
   "version": "3.5.3"
  }
 },
 "nbformat": 4,
 "nbformat_minor": 1
}
